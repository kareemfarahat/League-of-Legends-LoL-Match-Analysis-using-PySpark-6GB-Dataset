{
 "cells": [
  {
   "cell_type": "code",
   "execution_count": 397,
   "metadata": {},
   "outputs": [],
   "source": [
    "#importin the libraries\n",
    "\n",
    "from pyspark.sql import SparkSession\n",
    "from pyspark.sql.functions import *\n",
    "from pyspark.sql import Window"
   ]
  },
  {
   "cell_type": "code",
   "execution_count": 398,
   "metadata": {},
   "outputs": [],
   "source": [
    "#create spark session\n",
    "spark = SparkSession \\\n",
    "        .builder \\\n",
    "        .appName(\"LOL Mini Project\") \\\n",
    "        .getOrCreate()"
   ]
  },
  {
   "cell_type": "code",
   "execution_count": 399,
   "metadata": {},
   "outputs": [],
   "source": [
    "#Imprtint the data\n",
    "raw_df = spark.read.json('matches.json')"
   ]
  },
  {
   "cell_type": "code",
   "execution_count": 400,
   "metadata": {},
   "outputs": [
    {
     "name": "stdout",
     "output_type": "stream",
     "text": [
      "+--------------------+--------------------+\n",
      "|                info|            metadata|\n",
      "+--------------------+--------------------+\n",
      "|{1670799555338, 9...|{2, BR1_264293105...|\n",
      "+--------------------+--------------------+\n",
      "only showing top 1 row\n",
      "\n"
     ]
    }
   ],
   "source": [
    "raw_df.show(1)"
   ]
  },
  {
   "attachments": {},
   "cell_type": "markdown",
   "metadata": {},
   "source": [
    "Champion win Rate"
   ]
  },
  {
   "cell_type": "code",
   "execution_count": 401,
   "metadata": {},
   "outputs": [],
   "source": [
    "d = raw_df.selectExpr('inline(arrays_zip(info.participants.championName,info.participants.win))')\n",
    "\n",
    "\n",
    "win_df= d.groupBy('championName','win').count().filter( d.win == 'true')\n",
    "\n",
    "all_df= d.groupBy('championName').count().alias('all').selectExpr('championName', 'count as match_count')\n",
    "\n",
    "rate_df = win_df.join(all_df, win_df.championName==all_df.championName, 'outer').fillna(0)\n",
    "\n",
    "win_rate_df = rate_df.withColumn('winrate', (col('count') / col('match_count')) * 100 ).selectExpr('all.championName as championName','winrate')\n",
    "\n",
    "win_rate_df=win_rate_df.orderBy(win_rate_df['winrate'].desc())\n"
   ]
  },
  {
   "attachments": {},
   "cell_type": "markdown",
   "metadata": {},
   "source": [
    "Champion Ban Rate"
   ]
  },
  {
   "cell_type": "code",
   "execution_count": 402,
   "metadata": {},
   "outputs": [],
   "source": [
    "ban_df= raw_df.selectExpr('explode(info.teams) as m' ,'explode(m.bans) as s' , 's.championId as id')\\\n",
    "    .groupBy('id').count().sort('count')\n",
    "\n",
    "match_count = raw_df.select('metadata').count()\n",
    "\n",
    "ban_df = ban_df.withColumn('Ban Rate', (col('count') / match_count ) * 100)\n",
    "\n",
    "ban_df=ban_df.orderBy(ban_df['Ban Rate'].desc())\n"
   ]
  },
  {
   "attachments": {},
   "cell_type": "markdown",
   "metadata": {},
   "source": [
    "Champion Pick Rate"
   ]
  },
  {
   "cell_type": "code",
   "execution_count": 403,
   "metadata": {},
   "outputs": [],
   "source": [
    "pick_df= raw_df.selectExpr('explode(info.participants.championName) as championName').groupBy('championName').count()\n",
    "pick_rate_df= pick_df.withColumn('pick Rate', (col('count') / match_count ) * 100)\n",
    "\n",
    "pick_rate_df=pick_rate_df.orderBy(pick_rate_df['pick Rate'].desc())\n"
   ]
  },
  {
   "attachments": {},
   "cell_type": "markdown",
   "metadata": {},
   "source": [
    "Champion Synergies or duos"
   ]
  },
  {
   "cell_type": "code",
   "execution_count": 404,
   "metadata": {},
   "outputs": [],
   "source": [
    "def get_pairs(x):\n",
    "    return [(x[1][p1], x[1][p2]) for p1 in range(len(x[1])) for p2 in range(p1+1,len(x[1]))]"
   ]
  },
  {
   "cell_type": "code",
   "execution_count": 413,
   "metadata": {},
   "outputs": [],
   "source": [
    "s= raw_df.selectExpr('inline(arrays_zip(info.participants.championName,info.participants.win))', 'metadata.matchId')\n",
    "\n",
    "Champion_Synergies_win_RDD= s.filter(s.win=='true')\\\n",
    "    .rdd.map(lambda x: (x[2], x[0]))\\\n",
    "    .reduceByKey(lambda x,y: x + ' ' + y)\\\n",
    "    .map(lambda x: (x[0],x[1].split()))\\\n",
    "    .flatMap(lambda x: get_pairs(x))\\\n",
    "    .map(lambda x: (x , 1))\\\n",
    "    .reduceByKey(lambda x,y : x + y)\n",
    "\n",
    "Champion_Synergies_RDD= s.rdd.map(lambda x: (x[2], x[0]))\\\n",
    "    .reduceByKey(lambda x,y: x + ' ' + y)\\\n",
    "    .map(lambda x: (x[0],x[1].split()))\\\n",
    "    .flatMap(lambda x: get_pairs(x))\\\n",
    "    .map(lambda x: (x , 1))\\\n",
    "    .reduceByKey(lambda x,y : x + y)\n",
    "\n",
    "Champion_Synergies_win_df = Champion_Synergies_win_RDD.toDF()\n",
    "Champion_Synergies_df= Champion_Synergies_RDD.toDF()\n",
    "Champion_Synergies_df= Champion_Synergies_df.withColumnRenamed(Champion_Synergies_df.columns[0], 'duo' )\n",
    "Champion_Synergies_df= Champion_Synergies_df.withColumnRenamed(Champion_Synergies_df.columns[1],'all_matches')\n",
    "Champion_Synergies_win_df= Champion_Synergies_win_df.withColumnRenamed(Champion_Synergies_win_df.columns[0], 'duo2' )\n",
    "Champion_Synergies_win_df= Champion_Synergies_win_df.withColumnRenamed(Champion_Synergies_win_df.columns[1],'win')\n",
    "\n",
    "best_Champion_Synergies_df = Champion_Synergies_df.join(Champion_Synergies_win_df\\\n",
    "     , Champion_Synergies_df.duo == Champion_Synergies_win_df.duo2, 'outer' ).fillna(0)\n",
    "\n",
    "best_Champion_Synergies_df = best_Champion_Synergies_df.withColumn('win_rate', (col('win') / col('all_matches') * 100 ))\\\n",
    "    .select('duo','win_rate')\n",
    "best_Champion_Synergies_df=best_Champion_Synergies_df.orderBy(best_Champion_Synergies_df['win_rate'].desc())\n",
    "\n",
    "best_Champion_Synergies_df= best_Champion_Synergies_df.withColumn('dues', best_Champion_Synergies_df.duo.cast(StringType()))\\\n",
    "    .selectExpr('dues','win_rate')"
   ]
  },
  {
   "attachments": {},
   "cell_type": "markdown",
   "metadata": {},
   "source": [
    "Item win Rate"
   ]
  },
  {
   "cell_type": "code",
   "execution_count": 406,
   "metadata": {},
   "outputs": [],
   "source": [
    "\n",
    "items_df = raw_df.selectExpr('''inline(arrays_zip(info.participants.item0,\n",
    "                        info.participants.item1,info.participants.item2, info.participants.item3,\n",
    "                        info.participants.item4, info.participants.item5,\n",
    "                        info.participants.item6,info.participants.win))''')\n",
    "\n",
    "\n",
    "items_df = items_df.selectExpr('''stack(7,boolean(win),item0,boolean(win),item1,\n",
    "                  boolean(win),item2,boolean(win),item3,\n",
    "                  boolean(win),item4,boolean(win),item5,\n",
    "                  boolean(win),item6)as (win,item)''')\n",
    "\n",
    "win_df = items_df.filter(items_df.win== 'true')\n",
    "win_df= win_df.filter(win_df.item != 0)\n",
    "\n",
    "win_df= win_df.groupBy('item').count()\n",
    "\n",
    "\n",
    "\n",
    "all_item_df= items_df.filter(items_df.item != 0)\n",
    "all_item_df = all_item_df.groupBy('item').count().selectExpr('item as item2','count as all_matches_count')\n",
    "\n",
    "items_winrate_df= all_item_df.join(win_df, all_item_df.item2 == win_df.item, 'outer' )\n",
    "\n",
    "items_winrate_df = items_winrate_df.withColumn('winrate', (col('count') / col('all_matches_count')) * 100 )\\\n",
    "    .selectExpr('item2','winrate').dropna()\n",
    "\n",
    "    \n",
    "items_winrate_df=items_winrate_df.orderBy(items_winrate_df['winrate'].desc())\n"
   ]
  },
  {
   "attachments": {},
   "cell_type": "markdown",
   "metadata": {},
   "source": [
    "Item pick Rate"
   ]
  },
  {
   "cell_type": "code",
   "execution_count": 407,
   "metadata": {},
   "outputs": [],
   "source": [
    "items_pick_rate_df = all_item_df.withColumn('pick_Rate', (all_item_df.all_matches_count / match_count) * 100 )\n",
    "items_pick_rate_df=items_pick_rate_df.orderBy(items_pick_rate_df['pick_Rate'].desc())\n",
    "\n"
   ]
  },
  {
   "attachments": {},
   "cell_type": "markdown",
   "metadata": {},
   "source": [
    "Item Synergies"
   ]
  },
  {
   "cell_type": "code",
   "execution_count": 408,
   "metadata": {},
   "outputs": [],
   "source": [
    "Champion_item_Synergies= raw_df.selectExpr('''inline(arrays_zip(info.participants.item0,\n",
    "                        info.participants.item1,info.participants.item2, info.participants.item3,\n",
    "                        info.participants.item4, info.participants.item5,\n",
    "                        info.participants.item6,info.participants.win,info.participants.championName))''' , 'metadata.matchId')\n",
    "\n",
    "\n",
    "Champion_item_Synergies = Champion_item_Synergies.selectExpr('''stack(7,boolean(win),item0,boolean(win),item1,\n",
    "                  boolean(win),item2,boolean(win),item3,\n",
    "                  boolean(win),item4,boolean(win),item5,\n",
    "                  boolean(win),item6)as (win,item)''', 'championName','matchId' )\n",
    "\n",
    "Champion_item_Synergies= Champion_item_Synergies.filter(Champion_item_Synergies.item != 0)\n",
    "\n",
    "\n",
    "Champion_item_Synergies_all_df= Champion_item_Synergies.groupBy('championName', 'item')\\\n",
    "    .count().selectExpr('championName as championName1', 'item as item1','count as all_matches_count')\n",
    "\n",
    "\n",
    "Champion_item_Synergies_win_df = Champion_item_Synergies.filter(Champion_item_Synergies.win=='true')\n",
    "\n",
    "\n",
    "\n",
    "Champion_item_Synergies_win_df= Champion_item_Synergies_win_df.groupBy('championName', 'item')\\\n",
    "    .count().selectExpr('championName', 'item','count as win_count')\n",
    "\n",
    "\n",
    "\n",
    "Champion_item_Synergies_win_rate_df = Champion_item_Synergies_win_df.join(Champion_item_Synergies_all_df\\\n",
    "    ,(Champion_item_Synergies_win_df.item==Champion_item_Synergies_all_df.item1)\\\n",
    "        & (Champion_item_Synergies_win_df.championName==Champion_item_Synergies_all_df.championName1)\\\n",
    "            ,'outer')\n",
    "\n",
    "Champion_item_Synergies_win_rate_df=Champion_item_Synergies_win_rate_df.filter(Champion_item_Synergies_win_rate_df.win_count!=0)   \n",
    "\n",
    "Champion_item_Synergies_win_rate_df=Champion_item_Synergies_win_rate_df.withColumn('win_Rate', \\\n",
    "    (Champion_item_Synergies_win_rate_df.win_count /Champion_item_Synergies_win_rate_df.all_matches_count) * 100\\\n",
    "         ).selectExpr('championName','item','win_Rate')\n",
    "\n",
    "Champion_item_Synergies_win_rate_df=Champion_item_Synergies_win_rate_df.orderBy(Champion_item_Synergies_win_rate_df['win_Rate'].desc())\n"
   ]
  },
  {
   "attachments": {},
   "cell_type": "markdown",
   "metadata": {},
   "source": [
    "champions with highst win rate per country"
   ]
  },
  {
   "cell_type": "code",
   "execution_count": 409,
   "metadata": {},
   "outputs": [],
   "source": [
    "country_df= raw_df.selectExpr('inline(arrays_zip(info.participants.championName,info.participants.win))', 'metadata.matchId')\n",
    "\n",
    "country_df = country_df.withColumn('region', split(country_df.matchId,'_')[0])\n",
    "\n",
    "country_win_df= country_df.filter(country_df.win=='true').groupBy('region','championName').count()\n",
    "\n",
    "country_all_df= country_df.groupBy('region','championName').count()\\\n",
    "    .selectExpr('region as region1','championName as championName1', 'count as count1' )\n",
    "\n",
    "\n",
    "country_most_win_chaps_df= country_win_df.join(country_all_df\\\n",
    "    ,(country_win_df.region==country_all_df.region1)&\\\n",
    "        (country_win_df.championName==country_all_df.championName1)\\\n",
    "            ,'outer')\n",
    "\n",
    "country_most_win_chaps_df=country_most_win_chaps_df.fillna(0)\n",
    "\n",
    "\n",
    "country_most_win_chaps_df= country_most_win_chaps_df.withColumn('win_Rate', (col('count') / col('count1')*100)) \\\n",
    "    .selectExpr('championName','region','win_Rate')\n",
    "\n",
    "country_most_win_chaps_df= country_most_win_chaps_df.filter(country_most_win_chaps_df.win_Rate !=0)\n",
    "country_most_win_chaps_df=country_most_win_chaps_df.orderBy(country_most_win_chaps_df['win_Rate'].desc())\n"
   ]
  },
  {
   "attachments": {},
   "cell_type": "markdown",
   "metadata": {},
   "source": [
    "Writin the analysis results"
   ]
  },
  {
   "cell_type": "code",
   "execution_count": 414,
   "metadata": {},
   "outputs": [],
   "source": [
    "country_most_win_chaps_df.write.options(header=True).csv('champions_with_highst_win_rate_per_country.csv')\n",
    "\n",
    "Champion_item_Synergies_win_rate_df.write.options(header=True).csv('Item_Synergies.csv')\n",
    "\n",
    "items_pick_rate_df.write.options(header=True).csv('Item_pick_Rate.csv')\n",
    "\n",
    "items_winrate_df.write.options(header=True).csv('Item_win_Rate.csv')\n",
    "\n",
    "best_Champion_Synergies_df.write.options(header=True).csv('Champion_Synergies.csv')\n",
    "\n",
    "pick_rate_df.write.options(header='True').csv('Champion_Pick_Rate.csv')\n",
    "\n",
    "ban_df.write.options(header='True').csv('Champion_Ban_Rate.csv')\n",
    "\n",
    "win_rate_df.write.options(header='True').csv('Champion_win_Rate.csv')\n",
    "\n"
   ]
  },
  {
   "cell_type": "code",
   "execution_count": null,
   "metadata": {},
   "outputs": [],
   "source": [
    "import json\n",
    "with open('items.json') as f:\n",
    "    items_file = json.load(f)\n",
    "items= {}\n",
    "for i in items_file[0:10]:\n",
    "    items[i['id']]= i['name']"
   ]
  }
 ],
 "metadata": {
  "kernelspec": {
   "display_name": "Python 3",
   "language": "python",
   "name": "python3"
  },
  "language_info": {
   "codemirror_mode": {
    "name": "ipython",
    "version": 3
   },
   "file_extension": ".py",
   "mimetype": "text/x-python",
   "name": "python",
   "nbconvert_exporter": "python",
   "pygments_lexer": "ipython3",
   "version": "3.10.4"
  },
  "orig_nbformat": 4,
  "vscode": {
   "interpreter": {
    "hash": "0b72cfdca056c30f4f63f36d895bd96dfc6025b0bf21aba3014f18b17660fa99"
   }
  }
 },
 "nbformat": 4,
 "nbformat_minor": 2
}
