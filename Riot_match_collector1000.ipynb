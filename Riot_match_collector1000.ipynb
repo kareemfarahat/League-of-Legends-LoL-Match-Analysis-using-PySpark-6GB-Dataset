{
  "nbformat": 4,
  "nbformat_minor": 0,
  "metadata": {
    "colab": {
      "provenance": []
    },
    "kernelspec": {
      "name": "python3",
      "display_name": "Python 3"
    },
    "language_info": {
      "name": "python"
    }
  },
  "cells": [
    {
      "cell_type": "markdown",
      "metadata": {
        "id": "F-A31lwHgGDw"
      },
      "source": [
        "Needed:\n",
        "\n",
        "* **Queue** = \"solo/duo\"\n",
        "\n",
        "  - queue_type: \"Ranked Solo/Duo\"\n",
        "\n",
        "   -  highestTierAchieved: RANKED_SOLO_5x5\n",
        "\n",
        "* ranked match\n",
        "* several players\n",
        "* different players' ranks --> **tier**\n"
      ]
    },
    {
      "cell_type": "code",
      "metadata": {
        "id": "aUtkrt1SW9St"
      },
      "source": [
        "import requests\n",
        "import time\n",
        "import random\n",
        "import json\n",
        "from google.colab import files"
      ],
      "execution_count": 1,
      "outputs": []
    },
    {
      "cell_type": "code",
      "metadata": {
        "id": "NhyTzuyUXE1D"
      },
      "source": [
        "def get_leagues(platform, api):\n",
        "  \"\"\"\n",
        "  returns 200 summonerNames from master, grandmaster and challenger leagues in the given platform\n",
        "  \"\"\"\n",
        "\n",
        "  leagues = ['challengerleagues', 'grandmasterleagues', 'masterleagues']\n",
        "  \n",
        "  url_challenger = 'https://'+ platform + '.api.riotgames.com/lol/league/v4/'+ leagues[0]  + '/by-queue/RANKED_SOLO_5x5?api_key=' + api\n",
        "  response = requests.get(url_challenger)\n",
        "  lis = response.json()['entries']\n",
        "  summonerName_c = [sub['summonerName'] for sub in lis]\n",
        "\n",
        "  url_grandmaster = 'https://'+ platform + '.api.riotgames.com/lol/league/v4/'+ leagues[1]  + '/by-queue/RANKED_SOLO_5x5?api_key=' + api\n",
        "  response = requests.get(url_grandmaster)\n",
        "  lis = response.json()['entries']\n",
        "  summonerName_g = [sub['summonerName'] for sub in lis]\n",
        "\n",
        "  url_master = 'https://'+ platform + '.api.riotgames.com/lol/league/v4/'+ leagues[2]  + '/by-queue/RANKED_SOLO_5x5?api_key=' + api\n",
        "  response = requests.get(url_master)\n",
        "  lis = response.json()['entries']\n",
        "  summonerName_m = [sub['summonerName'] for sub in lis]\n",
        "\n",
        "  summonerName = summonerName_c + summonerName_g + summonerName_m\n",
        "\n",
        "  return summonerName\n",
        "\n",
        "\n",
        "\n",
        "def get_puuid(platform, api, summonerNames):\n",
        "\n",
        "  puuid_list = []\n",
        "  for name in summonerNames:\n",
        "\n",
        "    url = 'https://' + platform.lower() + '.api.riotgames.com/lol/summoner/v4/summoners/by-name/'  + name + '?api_key=' + api\n",
        "    response = requests.get(url).json()\n",
        "    if response.get('status'):\n",
        "      continue\n",
        "    puuid = response['puuid']\n",
        "    puuid_list.append(puuid)\n",
        "    print(len(puuid_list))\n",
        "  return puuid_list\n",
        "\n",
        "\n",
        "\n",
        "def get_matchId(region, api, puuids):\n",
        "\n",
        "  matchId_list = []\n",
        "  for puuid in puuids:\n",
        "    url = 'https://'+ region +'.api.riotgames.com/lol/match/v5/matches/by-puuid/'+ puuid +'/ids?start=0&count=10&api_key=' + api\n",
        "    response = requests.get(url).json()\n",
        "\n",
        "    # If rate limit is exceeded\n",
        "    if isinstance(response, dict):\n",
        "      print(response['status']['message'])\n",
        "      time.sleep(120)\n",
        "      url = 'https://'+ region +'.api.riotgames.com/lol/match/v5/matches/by-puuid/'+ puuid +'/ids?start=0&count=10&api_key=' + api\n",
        "      response = requests.get(url).json()\n",
        "\n",
        "    matchId_list.extend(response)\n",
        "\n",
        "  return matchId_list\n",
        "\n",
        "\n",
        "\n",
        "def get_matches(region, api, matchIds):\n",
        "\n",
        "  matches = []\n",
        "  i = 0\n",
        "  random_indices = random.sample(range(0, len(matchIds)-1), 1000)\n",
        "  for ind in random_indices:\n",
        "    time.sleep(0.01)\n",
        "    url = 'https://' + region + '.api.riotgames.com/lol/match/v5/matches/' + matchIds[ind] + '?api_key=' + api\n",
        "    response = requests.get(url).json()\n",
        "\n",
        "    # If rate limit is exceeded\n",
        "    while response.get('status'):\n",
        "      print(response['status']['message'])\n",
        "      time.sleep(40)\n",
        "      url = 'https://' + region + '.api.riotgames.com/lol/match/v5/matches/' + matchIds[ind] + '?api_key=' + api\n",
        "      response = requests.get(url).json()\n",
        "    \n",
        "    i+=1\n",
        "    print(i)\n",
        "    matches.append(response)\n",
        "\n",
        "  return matches"
      ],
      "execution_count": 2,
      "outputs": []
    },
    {
      "cell_type": "code",
      "metadata": {
        "id": "MCCUDpe8vCgv"
      },
      "source": [
        "api = 'RGAPI-1c7359e9-9ffd-43ad-8db0-633fdfe98cfb'\n",
        "\n",
        "platform = ['BR1', 'eun1', 'EUW1', 'JP1', 'KR', 'LA1', 'LA2', 'NA1', 'OC1', 'RU', 'TR1']\n",
        "region = 'americas'"
      ],
      "execution_count": 3,
      "outputs": []
    },
    {
      "cell_type": "code",
      "metadata": {
        "id": "30kA_ByjX8Hy"
      },
      "source": [
        "summonerNames = get_leagues(platform[0], api)"
      ],
      "execution_count": 4,
      "outputs": []
    },
    {
      "cell_type": "code",
      "metadata": {
        "colab": {
          "base_uri": "https://localhost:8080/"
        },
        "id": "43ceLLAtoHDd",
        "outputId": "b4025753-0d31-4989-ceb3-c8d05a3181a4"
      },
      "source": [
        "len(summonerNames)"
      ],
      "execution_count": 5,
      "outputs": [
        {
          "output_type": "execute_result",
          "data": {
            "text/plain": [
              "6863"
            ]
          },
          "metadata": {},
          "execution_count": 5
        }
      ]
    },
    {
      "cell_type": "code",
      "metadata": {
        "colab": {
          "base_uri": "https://localhost:8080/"
        },
        "id": "jn9maUG_gEHh",
        "outputId": "0cbb4dc6-c943-417d-84fb-052ca5a43d96"
      },
      "source": [
        "res = get_puuid(platform[0], api, summonerNames)"
      ],
      "execution_count": null,
      "outputs": [
        {
          "output_type": "stream",
          "name": "stdout",
          "text": [
            "1\n",
            "2\n",
            "3\n",
            "4\n",
            "5\n",
            "6\n",
            "7\n",
            "8\n",
            "9\n",
            "10\n",
            "11\n",
            "12\n",
            "13\n",
            "14\n",
            "15\n",
            "16\n",
            "17\n",
            "18\n",
            "19\n",
            "20\n",
            "21\n",
            "22\n",
            "23\n",
            "24\n",
            "25\n",
            "26\n",
            "27\n",
            "28\n",
            "29\n",
            "30\n",
            "31\n",
            "32\n",
            "33\n",
            "34\n",
            "35\n",
            "36\n",
            "37\n",
            "38\n",
            "39\n",
            "40\n",
            "41\n",
            "42\n",
            "43\n",
            "44\n",
            "45\n",
            "46\n",
            "47\n",
            "48\n",
            "49\n",
            "50\n",
            "51\n",
            "52\n",
            "53\n",
            "54\n",
            "55\n",
            "56\n",
            "57\n",
            "58\n",
            "59\n"
          ]
        }
      ]
    },
    {
      "cell_type": "code",
      "metadata": {
        "id": "_y_FvsNccc5d"
      },
      "source": [
        "len(res)"
      ],
      "execution_count": null,
      "outputs": []
    },
    {
      "cell_type": "code",
      "metadata": {
        "id": "gWwPQwKJog_9"
      },
      "source": [
        "res"
      ],
      "execution_count": null,
      "outputs": []
    },
    {
      "cell_type": "code",
      "metadata": {
        "id": "t0QTNzNQu48E"
      },
      "source": [
        "match_ids = get_matchId(region, api, res)"
      ],
      "execution_count": null,
      "outputs": []
    },
    {
      "cell_type": "code",
      "metadata": {
        "id": "OeOtcgf10M7_"
      },
      "source": [
        "match_ids"
      ],
      "execution_count": null,
      "outputs": []
    },
    {
      "cell_type": "code",
      "metadata": {
        "id": "CZSRtwyQ0NtH"
      },
      "source": [
        "len(match_ids)"
      ],
      "execution_count": null,
      "outputs": []
    },
    {
      "cell_type": "code",
      "metadata": {
        "id": "gSKKBcj058cT"
      },
      "source": [
        "matches = get_matches(region, api, match_ids)"
      ],
      "execution_count": null,
      "outputs": []
    },
    {
      "cell_type": "code",
      "metadata": {
        "id": "VL3Mf0QXCfam"
      },
      "source": [
        "matches"
      ],
      "execution_count": null,
      "outputs": []
    },
    {
      "cell_type": "code",
      "metadata": {
        "id": "p6-oxS5zDg7J"
      },
      "source": [
        "len(matches)"
      ],
      "execution_count": null,
      "outputs": []
    },
    {
      "cell_type": "code",
      "metadata": {
        "id": "lVSzhFgKPOtp"
      },
      "source": [
        "with open('matches', 'w') as f:\n",
        "  json.dump(matches, f)"
      ],
      "execution_count": null,
      "outputs": []
    },
    {
      "cell_type": "code",
      "metadata": {
        "id": "obsJZ51DQzfm"
      },
      "source": [
        "files.download(\"matches1000\")"
      ],
      "execution_count": null,
      "outputs": []
    },
    {
      "cell_type": "code",
      "metadata": {
        "id": "V2n8O0D-RfGY"
      },
      "source": [],
      "execution_count": null,
      "outputs": []
    }
  ]
}